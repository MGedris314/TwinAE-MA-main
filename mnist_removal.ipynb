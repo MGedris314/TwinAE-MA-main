{
 "cells": [
  {
   "cell_type": "code",
   "execution_count": 1,
   "id": "2834123b",
   "metadata": {},
   "outputs": [],
   "source": [
    "import numpy as np\n",
    "import random\n",
    "from helpers import *\n",
    "\n",
    "# Set random seed for reproducibility\n",
    "np.random.seed(42)\n",
    "random.seed(42) "
   ]
  },
  {
   "cell_type": "code",
   "execution_count": 3,
   "id": "9c94ad43",
   "metadata": {},
   "outputs": [],
   "source": [
    "from sklearn.datasets import fetch_openml\n",
    "\n",
    "mnist = fetch_openml('mnist_784', version=1, as_frame=False, cache=True)\n",
    "# Save features and labels as .npy files\n",
    "np.save('mnist_features.npy', mnist['data'])\n",
    "np.save('mnist_labels.npy', mnist['target'])"
   ]
  },
  {
   "cell_type": "code",
   "execution_count": null,
   "id": "63826441",
   "metadata": {},
   "outputs": [],
   "source": []
  },
  {
   "cell_type": "code",
   "execution_count": null,
   "id": "d4e2c0ab",
   "metadata": {},
   "outputs": [
    {
     "data": {
      "image/png": "[encoded data removed]",
      "text/plain": [
       "<Figure size 400x400 with 1 Axes>"
      ]
     },
     "metadata": {},
     "output_type": "display_data"
    }
   ],
   "source": [
    "mnist_features=np.load('mnist_features.npy', allow_pickle=True)\n",
    "mnist_labels=np.load('mnist_labels.npy', allow_pickle=True)\n",
    "info={\"img_shape\":(28,28), \"name\":\"mnist\"}\n",
    "\n",
    "display_random_image(mnist_features, mnist_labels, info)"
   ]
  },
  {
   "cell_type": "code",
   "execution_count": 10,
   "id": "b4a6a2a2",
   "metadata": {},
   "outputs": [],
   "source": [
    "#Proceed as normal now, check Adam's code for how to set up anchors."
   ]
  }
 ],
 "metadata": {
  "kernelspec": {
   "display_name": "Python 3",
   "language": "python",
   "name": "python3"
  },
  "language_info": {
   "codemirror_mode": {
    "name": "ipython",
    "version": 3
   },
   "file_extension": ".py",
   "mimetype": "text/x-python",
   "name": "python",
   "nbconvert_exporter": "python",
   "pygments_lexer": "ipython3",
   "version": "3.11.9"
  }
 },
 "nbformat": 4,
 "nbformat_minor": 5
}
